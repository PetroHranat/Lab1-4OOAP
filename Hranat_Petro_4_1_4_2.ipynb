{
  "nbformat": 4,
  "nbformat_minor": 0,
  "metadata": {
    "colab": {
      "provenance": []
    },
    "kernelspec": {
      "name": "python3",
      "display_name": "Python 3"
    },
    "language_info": {
      "name": "python"
    }
  },
  "cells": [
    {
      "cell_type": "markdown",
      "source": [
        "Варіант No4\n",
        "Написати програму БУГХАЛТЕРІЯ з використанням шаблону BRIDGE. На\n",
        "підприємстві працюють люди різних професій, у кожного з них є свої\n",
        "характеристики : імя, посада тощо. За допомогою шаблону проектування\n",
        "створити струтуру класів, яка б дозволяла видавати заробітню плату\n",
        "працівникам двома способами: за кількість відроблених годин та за зроблену\n",
        "роботу(відрядна форма)."
      ],
      "metadata": {
        "id": "EBcqtAE9hIsV"
      }
    },
    {
      "cell_type": "code",
      "execution_count": 3,
      "metadata": {
        "colab": {
          "base_uri": "https://localhost:8080/"
        },
        "id": "eC1t2UEzdnfn",
        "outputId": "c07fae15-f411-4396-f3e8-b56d0c108ce5"
      },
      "outputs": [
        {
          "name": "stdout",
          "output_type": "stream",
          "text": [
            "\n",
            "Виберіть працівника:\n",
            "1. Олександр - Бухгалтер\n",
            "2. Марія - Інженер\n",
            "3. Вийти\n",
            "Введіть номер: 3\n"
          ]
        }
      ],
      "source": [
        "from abc import ABC, abstractmethod\n",
        "\n",
        "# Абстракція: Професія\n",
        "class Profession:\n",
        "    def __init__(self, name, position):\n",
        "        self.name = name\n",
        "        self.position = position\n",
        "\n",
        "# Абстрактний Інтерфейс для розрахунку зарплати\n",
        "class PaymentMethod(ABC):\n",
        "    @abstractmethod\n",
        "    def calculate_salary(self, employee):\n",
        "        pass\n",
        "\n",
        "# Конкретна Реалізація 1: Погодинна оплата\n",
        "class HourlyPayment(PaymentMethod):\n",
        "    def __init__(self, hourly_rate, hours_worked):\n",
        "        self.hourly_rate = hourly_rate\n",
        "        self.hours_worked = hours_worked\n",
        "\n",
        "    def calculate_salary(self, employee):\n",
        "        salary = self.hourly_rate * self.hours_worked\n",
        "        return f\"Зарплата для {employee.name} (погодинна оплата): {salary} грн\"\n",
        "\n",
        "# Конкретна Реалізація 2: Відрядна форма оплати\n",
        "class PieceworkPayment(PaymentMethod):\n",
        "    def __init__(self, rate_per_piece, pieces_completed):\n",
        "        self.rate_per_piece = rate_per_piece\n",
        "        self.pieces_completed = pieces_completed\n",
        "\n",
        "    def calculate_salary(self, employee):\n",
        "        salary = self.rate_per_piece * self.pieces_completed\n",
        "        return f\"Зарплата для {employee.name} (відрядна форма): {salary} грн\"\n",
        "\n",
        "# Абстракція \"Працівник\" з посиланням на спосіб оплати\n",
        "class Employee:\n",
        "    def __init__(self, profession, payment_method=None):\n",
        "        self.profession = profession\n",
        "        self.payment_method = payment_method\n",
        "\n",
        "    def set_payment_method(self, payment_method):\n",
        "        self.payment_method = payment_method\n",
        "\n",
        "    def get_salary(self):\n",
        "        if self.payment_method is None:\n",
        "            return \"Спосіб оплати не встановлено.\"\n",
        "        return self.payment_method.calculate_salary(self.profession)\n",
        "\n",
        "# Основна функція з інтерфейсом для користувача\n",
        "def main():\n",
        "    # Створення професій\n",
        "    accountant = Profession(\"Олександр\", \"Бухгалтер\")\n",
        "    engineer = Profession(\"Марія\", \"Інженер\")\n",
        "\n",
        "    # Створення працівників\n",
        "    employee1 = Employee(accountant)\n",
        "    employee2 = Employee(engineer)\n",
        "\n",
        "    # Меню для вибору способу оплати\n",
        "    while True:\n",
        "        print(\"\\nВиберіть працівника:\")\n",
        "        print(\"1. Олександр - Бухгалтер\")\n",
        "        print(\"2. Марія - Інженер\")\n",
        "        print(\"3. Вийти\")\n",
        "        choice = input(\"Введіть номер: \")\n",
        "\n",
        "        if choice == '3':\n",
        "            break\n",
        "\n",
        "        if choice == '1':\n",
        "            employee = employee1\n",
        "        elif choice == '2':\n",
        "            employee = employee2\n",
        "        else:\n",
        "            print(\"Неправильний вибір. Спробуйте ще раз.\")\n",
        "            continue\n",
        "\n",
        "        print(\"\\nВиберіть спосіб оплати:\")\n",
        "        print(\"1. Погодинна оплата\")\n",
        "        print(\"2. Відрядна форма оплати\")\n",
        "        payment_choice = input(\"Введіть номер: \")\n",
        "\n",
        "        if payment_choice == '1':\n",
        "            hourly_rate = float(input(\"Введіть погодинну ставку: \"))\n",
        "            hours_worked = float(input(\"Введіть кількість відпрацьованих годин: \"))\n",
        "            payment_method = HourlyPayment(hourly_rate, hours_worked)\n",
        "            employee.set_payment_method(payment_method)\n",
        "\n",
        "        elif payment_choice == '2':\n",
        "            rate_per_piece = float(input(\"Введіть ставку за одиницю роботи: \"))\n",
        "            pieces_completed = int(input(\"Введіть кількість виконаних одиниць: \"))\n",
        "            payment_method = PieceworkPayment(rate_per_piece, pieces_completed)\n",
        "            employee.set_payment_method(payment_method)\n",
        "\n",
        "        else:\n",
        "            print(\"Неправильний вибір. Спробуйте ще раз.\")\n",
        "            continue\n",
        "\n",
        "        # Отримання зарплати\n",
        "        print(employee.get_salary())\n",
        "\n",
        "if __name__ == \"__main__\":\n",
        "    main()\n"
      ]
    },
    {
      "cell_type": "markdown",
      "source": [
        "Варіант No6 Написати програму TRAIN з використанням шаблону ADAPTER. Отож, у нас є\n",
        "ноутбук. Припустимо вас кафедра IT НЛТУ України відправила у відрядження\n",
        "на міжнародну олімпіаду у м.Київ. Ви сідаєте у поїзд. І тут у вас виникає\n",
        "бажання повторити ООАП(Шаблони проектування) і включивши ноутбук у вас\n",
        "сідає батарея. На скільки ви знаєте Укрзаліниця оновлює свій парк вагонів, але\n",
        "це робиться дуже повільно. В одному з вагонів у нас все сучасне, тобто новий\n",
        "вагон, тому NewVagonSystem має метод MatchSocket, яким ми просто можемо\n",
        "скористатися(заряджаєм ноутбук). В іншому вагоні у нас проблемки(вагон\n",
        "старий і старі радянські розетки є вузькі, тому штекер від ноутбука не\n",
        "підходить), тобто OldVagonSytem має тільки метод ThinSocket. Нажаль замінити\n",
        "розетки у вагоні ми не можемо. Натомість, ми можемо взяти адаптер, який\n",
        "надає можливість користуватися тією ж функціональністю споживання\n",
        "електричного струму, але із старої системи."
      ],
      "metadata": {
        "id": "DcZfX1MWg_Hg"
      }
    },
    {
      "cell_type": "code",
      "source": [
        "# Клас Laptop, що потребує зарядки\n",
        "class Laptop:\n",
        "    def charge(self, charger):\n",
        "        print(charger.charge_laptop())\n",
        "\n",
        "# Клас NewVagonSystem із сучасною розеткою\n",
        "class NewVagonSystem:\n",
        "    def charge_laptop(self):\n",
        "        return \"Зарядка ноутбука через сучасну розетку.\"\n",
        "\n",
        "# Клас OldVagonSystem зі старою вузькою розеткою\n",
        "class OldVagonSystem:\n",
        "    def thin_socket(self):\n",
        "        return \"Підключення через вузьку розетку неможливе для зарядки ноутбука.\"\n",
        "\n",
        "# Адаптер OldToNewAdapter, що дозволяє використання старої розетки для зарядки ноутбука\n",
        "class OldToNewAdapter:\n",
        "    def __init__(self, old_vagon):\n",
        "        self.old_vagon = old_vagon\n",
        "\n",
        "    def charge_laptop(self):\n",
        "        # Симуляція адаптації старої розетки для ноутбука\n",
        "        return \"Використано адаптер. \" + self.old_vagon.thin_socket() + \" Переобладнання завершено: ноутбук заряджається.\"\n",
        "\n",
        "# Використання\n",
        "\n",
        "# Створюємо екземпляри ноутбука та вагонів\n",
        "laptop = Laptop()\n",
        "new_vagon = NewVagonSystem()\n",
        "old_vagon = OldVagonSystem()\n",
        "\n",
        "# Зарядка ноутбука в новому вагоні\n",
        "print(\"Ситуація: новий вагон\")\n",
        "laptop.charge(new_vagon)  # зарядка ноутбука безпосередньо через NewVagonSystem\n",
        "\n",
        "# Зарядка ноутбука в старому вагоні з адаптером\n",
        "print(\"\\nСитуація: старий вагон\")\n",
        "adapter = OldToNewAdapter(old_vagon)\n",
        "laptop.charge(adapter)  # зарядка ноутбука через адаптер для старого вагону\n",
        "\n"
      ],
      "metadata": {
        "colab": {
          "base_uri": "https://localhost:8080/"
        },
        "id": "h8aKtfiofNhe",
        "outputId": "cd6c4a39-57a0-4217-871a-235c334d9221"
      },
      "execution_count": 6,
      "outputs": [
        {
          "output_type": "stream",
          "name": "stdout",
          "text": [
            "Ситуація: новий вагон\n",
            "Зарядка ноутбука через сучасну розетку.\n",
            "\n",
            "Ситуація: старий вагон\n",
            "Використано адаптер. Підключення через вузьку розетку неможливе для зарядки ноутбука. Переобладнання завершено: ноутбук заряджається.\n"
          ]
        }
      ]
    }
  ]
}