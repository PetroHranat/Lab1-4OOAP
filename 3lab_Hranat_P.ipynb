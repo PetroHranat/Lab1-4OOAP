{
  "nbformat": 4,
  "nbformat_minor": 0,
  "metadata": {
    "colab": {
      "provenance": []
    },
    "kernelspec": {
      "name": "python3",
      "display_name": "Python 3"
    },
    "language_info": {
      "name": "python"
    }
  },
  "cells": [
    {
      "cell_type": "markdown",
      "source": [
        "Варіант №5 Розробити програму для обліку кімнат в гуртожитку. Кожна кімната\n",
        "може бути двомісною або трьохмісною. Необхідно зберігати інформацію\n",
        "про тип кімнати та всіх її мешканців: ПІБ, дата народження, факультет,\n",
        "група, форма навчання(державне замовлення чи за кошти фізичних осіб).\n",
        "Комендант гуртожитку повинен формувати звіт у вигляді текстового\n",
        "файлу про кожну кімнату(тип кімнати, кількість мешканців, квартплата\n",
        "для кожного мешканця та інформація про всіх мешканців). Поставлене\n",
        "завдання реалізувати за допомогою шаблону проектування Прототип."
      ],
      "metadata": {
        "id": "6p7Q1-xIzn9g"
      }
    },
    {
      "cell_type": "code",
      "execution_count": 4,
      "metadata": {
        "id": "D9mxNMswtwzO"
      },
      "outputs": [],
      "source": [
        "import copy\n",
        "\n",
        "class Student:\n",
        "    def __init__(self, full_name, birth_date, faculty, group, form_of_study):\n",
        "        self.full_name = full_name\n",
        "        self.birth_date = birth_date\n",
        "        self.faculty = faculty\n",
        "        self.group = group\n",
        "        self.form_of_study = form_of_study  # 'Держзамовлення' або 'Фіз. особи'\n",
        "\n",
        "    def __str__(self):\n",
        "        return (f\"ПІБ: {self.full_name}, Дата народження: {self.birth_date}, \"\n",
        "                f\"Факультет: {self.faculty}, Група: {self.group}, \"\n",
        "                f\"Форма навчання: {self.form_of_study}\")\n",
        "\n",
        "class Room:\n",
        "    def __init__(self, room_type):\n",
        "        self.room_type = room_type  # 'Двомісна' або 'Трьохмісна'\n",
        "        self.residents = []\n",
        "\n",
        "    def add_resident(self, student):\n",
        "        if len(self.residents) < (2 if self.room_type == 'Двомісна' else 3):\n",
        "            self.residents.append(student)\n",
        "        else:\n",
        "            raise ValueError(\"У кімнаті вже достатньо мешканців\")\n",
        "\n",
        "    def calculate_rent(self, student):\n",
        "        if student.form_of_study == 'Держзамовлення':\n",
        "            return 500  # фіксована ціна для студентів на держзамовленні\n",
        "        else:\n",
        "            return 800  # ціна для студентів, що навчаються за кошти фіз. осіб\n",
        "\n",
        "    def generate_report(self):\n",
        "        with open(f'room_report_{id(self)}.txt', 'w') as f:\n",
        "            f.write(f\"Тип кімнати: {self.room_type}\\n\")\n",
        "            f.write(f\"Кількість мешканців: {len(self.residents)}\\n\")\n",
        "            f.write(\"Мешканці:\\n\")\n",
        "            for student in self.residents:\n",
        "                f.write(f\"{student}\\n\")\n",
        "                f.write(f\"Квартплата: {self.calculate_rent(student)} грн\\n\")\n",
        "            f.write(\"\\n\")\n",
        "\n",
        "    def clone(self):\n",
        "        return copy.deepcopy(self)\n",
        "\n",
        "# Приклад використання\n",
        "if __name__ == \"__main__\":\n",
        "    # Створюємо студентів\n",
        "    student1 = Student(\"Іваненко Іван Іванович\", \"01.01.2001\", \"ФІОТ\", \"КМ-01\", \"Держзамовлення\")\n",
        "    student2 = Student(\"Петренко Петро Петрович\", \"02.02.2002\", \"ФІОТ\", \"КМ-02\", \"Фіз. особи\")\n",
        "    student3 = Student(\"Сидоренко Сидір Сидорович\", \"03.03.2003\", \"ФІОТ\", \"КМ-03\", \"Держзамовлення\")\n",
        "\n",
        "    # Створюємо двомісну кімнату\n",
        "    room1 = Room(\"Двомісна\")\n",
        "    room1.add_resident(student1)\n",
        "    room1.add_resident(student2)\n",
        "\n",
        "    # Генеруємо звіт по кімнаті\n",
        "    room1.generate_report()\n",
        "\n",
        "    # Створюємо трьохмісну кімнату на основі двомісної\n",
        "    room2 = room1.clone()\n",
        "    room2.room_type = \"Трьохмісна\"\n",
        "    room2.add_resident(student3)\n",
        "\n",
        "    # Генеруємо звіт по трьохмісній кімнаті\n",
        "    room2.generate_report()\n"
      ]
    },
    {
      "cell_type": "markdown",
      "source": [
        "Варіант №4 Продемонструвати шаблон проектування Одинак з ранньою\n",
        "ініціалізацією на наступному прикладі. Розробити програму, в якій існує\n",
        "лічильник для підрахунку кількості проданих товарів трьох груп(продукти\n",
        "харчування, ліки, одяг). Вартість продукту визначається випадковим\n",
        "чином з надбавкою 5% на продукти харчування, 10% на ліки та 15% на\n",
        "одяг. Окрім кількості проданих товарів об’єкт лічильника повинен\n",
        "\n",
        "зберігати сумарну вартість проданих товарів та файл, в якому повинен\n",
        "записуватись час продажу кожного товару і найменування групи товарів."
      ],
      "metadata": {
        "id": "6IStp91T2Qlw"
      }
    },
    {
      "cell_type": "code",
      "source": [
        "import random\n",
        "import time\n",
        "from datetime import datetime\n",
        "\n",
        "class SalesCounter:\n",
        "    _instance = None\n",
        "\n",
        "    def __new__(cls):\n",
        "        if cls._instance is None:\n",
        "            cls._instance = super(SalesCounter, cls).__new__(cls)\n",
        "            cls._instance.food_count = 0\n",
        "            cls._instance.medicine_count = 0\n",
        "            cls._instance.clothes_count = 0\n",
        "            cls._instance.total_value = 0.0\n",
        "            cls._instance.log_file = 'sales_log.txt'\n",
        "            # Очищаємо файл при першому запуску\n",
        "            with open(cls._instance.log_file, 'w') as file:\n",
        "                file.write(\"Час продажу, Група товарів, Ціна\\n\")\n",
        "        return cls._instance\n",
        "\n",
        "    def sell_item(self, group: str, base_price: float):\n",
        "        if group == 'Продукти харчування':\n",
        "            price = base_price * 1.05  # надбавка 5%\n",
        "            self.food_count += 1\n",
        "        elif group == 'Ліки':\n",
        "            price = base_price * 1.10  # надбавка 10%\n",
        "            self.medicine_count += 1\n",
        "        elif group == 'Одяг':\n",
        "            price = base_price * 1.15  # надбавка 15%\n",
        "            self.clothes_count += 1\n",
        "        else:\n",
        "            raise ValueError(\"Невідома група товарів\")\n",
        "\n",
        "        self.total_value += price\n",
        "        self._log_sale(group, price)\n",
        "\n",
        "    def _log_sale(self, group: str, price: float):\n",
        "        current_time = datetime.now().strftime(\"%Y-%m-%d %H:%M:%S\")\n",
        "        with open(self.log_file, 'a') as file:\n",
        "            file.write(f\"{current_time}, {group}, {price:.2f}\\n\")\n",
        "\n",
        "    def get_summary(self):\n",
        "        return {\n",
        "            'Продукти харчування': self.food_count,\n",
        "            'Ліки': self.medicine_count,\n",
        "            'Одяг': self.clothes_count,\n",
        "            'Сумарна вартість': self.total_value\n",
        "        }\n",
        "\n",
        "# Демонстрація\n",
        "if __name__ == \"__main__\":\n",
        "    counter = SalesCounter()\n",
        "\n",
        "    # Продаж випадкових товарів\n",
        "    groups = ['Продукти харчування', 'Ліки', 'Одяг']\n",
        "    for _ in range(10):  # продаємо 10 товарів\n",
        "        group = random.choice(groups)\n",
        "        base_price = random.uniform(10, 100)  # випадкова базова ціна товару\n",
        "        counter.sell_item(group, base_price)\n",
        "        time.sleep(1)  # імітація затримки між продажами\n",
        "\n",
        "    # Виведення підсумків\n",
        "    summary = counter.get_summary()\n",
        "    print(\"Кількість проданих товарів по групах:\")\n",
        "    for group, count in summary.items():\n",
        "        if group != 'Сумарна вартість':\n",
        "            print(f\"{group}: {count}\")\n",
        "    print(f\"Сумарна вартість проданих товарів: {summary['Сумарна вартість']:.2f}\")\n"
      ],
      "metadata": {
        "colab": {
          "base_uri": "https://localhost:8080/"
        },
        "id": "iFrkse6czwa5",
        "outputId": "fafcba21-15cf-489c-e8e3-b5dd60871870"
      },
      "execution_count": 6,
      "outputs": [
        {
          "output_type": "stream",
          "name": "stdout",
          "text": [
            "Кількість проданих товарів по групах:\n",
            "Продукти харчування: 3\n",
            "Ліки: 3\n",
            "Одяг: 4\n",
            "Сумарна вартість проданих товарів: 586.81\n"
          ]
        }
      ]
    }
  ]
}